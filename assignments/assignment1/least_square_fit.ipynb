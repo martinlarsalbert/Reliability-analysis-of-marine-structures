{
 "cells": [
  {
   "cell_type": "markdown",
   "metadata": {},
   "source": [
    "## Least square fit"
   ]
  },
  {
   "cell_type": "code",
   "execution_count": 1,
   "metadata": {},
   "outputs": [],
   "source": [
    "from jupyterthemes import jtplot\n",
    "jtplot.style(theme='onedork', context='notebook', ticks=True, grid=False)"
   ]
  },
  {
   "cell_type": "code",
   "execution_count": 2,
   "metadata": {},
   "outputs": [],
   "source": [
    "import sympy as sp\n",
    "import pandas as pd\n",
    "import numpy as np"
   ]
  },
  {
   "cell_type": "code",
   "execution_count": 62,
   "metadata": {},
   "outputs": [],
   "source": [
    "c_0,c_1 = sp.symbols('c_0 c_1')\n",
    "epsilon = sp.IndexedBase(\"epsilon\")\n",
    "y = sp.IndexedBase(\"y\")\n",
    "x = sp.IndexedBase(\"x\")\n",
    "i, N = sp.var(\"i,N\", integer=True)\n",
    "\n",
    "linear_equation = sp.Eq(y[i], c_0+c_1*x[i]+epsilon[i])"
   ]
  },
  {
   "cell_type": "code",
   "execution_count": 5,
   "metadata": {},
   "outputs": [
    {
     "data": {
      "text/latex": [
       "$\\displaystyle {y}_{i} = c_{0} + c_{1} {x}_{i} + {\\epsilon}_{i}$"
      ],
      "text/plain": [
       "Eq(y[i], c_0 + c_1*x[i] + epsilon[i])"
      ]
     },
     "execution_count": 5,
     "metadata": {},
     "output_type": "execute_result"
    }
   ],
   "source": [
    "linear_equation"
   ]
  },
  {
   "cell_type": "code",
   "execution_count": 6,
   "metadata": {
    "scrolled": false
   },
   "outputs": [
    {
     "data": {
      "text/latex": [
       "$\\displaystyle {\\epsilon}_{i} = - c_{0} - c_{1} {x}_{i} + {y}_{i}$"
      ],
      "text/plain": [
       "Eq(epsilon[i], -c_0 - c_1*x[i] + y[i])"
      ]
     },
     "execution_count": 6,
     "metadata": {},
     "output_type": "execute_result"
    }
   ],
   "source": [
    "epsilon_equation = sp.Eq(epsilon[i],sp.solve(linear_equation, epsilon[i])[0])\n",
    "epsilon_equation"
   ]
  },
  {
   "cell_type": "markdown",
   "metadata": {},
   "source": [
    "## Criteria 1\n",
    "Mean error should be 0. \n",
    "\n",
    "$mean(\\epsilon_i)=0 $"
   ]
  },
  {
   "cell_type": "code",
   "execution_count": 7,
   "metadata": {},
   "outputs": [
    {
     "data": {
      "text/latex": [
       "$\\displaystyle \\frac{\\sum_{i=1}^{N} {\\epsilon}_{i}}{N} = 0$"
      ],
      "text/plain": [
       "Eq(Sum(epsilon[i], (i, 1, N))/N, 0)"
      ]
     },
     "execution_count": 7,
     "metadata": {},
     "output_type": "execute_result"
    }
   ],
   "source": [
    "criteria_1_equation = sp.Eq(1/N*sp.Sum(epsilon[i], (i, 1, N)),0)\n",
    "criteria_1_equation"
   ]
  },
  {
   "cell_type": "code",
   "execution_count": 51,
   "metadata": {
    "scrolled": true
   },
   "outputs": [
    {
     "data": {
      "text/latex": [
       "$\\displaystyle \\sum_{i=1}^{N} \\left(- c_{0} - c_{1} {x}_{i} + {y}_{i}\\right) = 0$"
      ],
      "text/plain": [
       "Eq(Sum(-c_0 - c_1*x[i] + y[i], (i, 1, N)), 0)"
      ]
     },
     "execution_count": 51,
     "metadata": {},
     "output_type": "execute_result"
    }
   ],
   "source": [
    "criteria_1_equation = sp.Eq(sp.Sum(sp.solve(epsilon_equation,epsilon[i])[0], (i, 1, N)),0)\n",
    "criteria_1_equation"
   ]
  },
  {
   "cell_type": "code",
   "execution_count": 52,
   "metadata": {},
   "outputs": [
    {
     "data": {
      "text/latex": [
       "$\\displaystyle - N c_{0} + \\sum_{i=1}^{N} - c_{1} {x}_{i} + \\sum_{i=1}^{N} {y}_{i} = 0$"
      ],
      "text/plain": [
       "Eq(-N*c_0 + Sum(-c_1*x[i], (i, 1, N)) + Sum(y[i], (i, 1, N)), 0)"
      ]
     },
     "execution_count": 52,
     "metadata": {},
     "output_type": "execute_result"
    }
   ],
   "source": [
    "criteria_1_equation = sp.Eq(sp.expand(criteria_1_equation.lhs).doit(),0)\n",
    "criteria_1_equation"
   ]
  },
  {
   "cell_type": "code",
   "execution_count": 53,
   "metadata": {},
   "outputs": [
    {
     "data": {
      "text/latex": [
       "$\\displaystyle c_{0} = \\frac{\\sum_{i=1}^{N} \\left(- c_{1} {x}_{i} + {y}_{i}\\right)}{N}$"
      ],
      "text/plain": [
       "Eq(c_0, Sum(-c_1*x[i] + y[i], (i, 1, N))/N)"
      ]
     },
     "execution_count": 53,
     "metadata": {},
     "output_type": "execute_result"
    }
   ],
   "source": [
    "criteria_1_equation = sp.Eq(c_0,sp.solve(criteria_1_equation,c_0)[0])\n",
    "criteria_1_equation"
   ]
  },
  {
   "cell_type": "code",
   "execution_count": 54,
   "metadata": {
    "scrolled": false
   },
   "outputs": [
    {
     "data": {
      "text/latex": [
       "$\\displaystyle c_{0} = \\frac{\\sum_{i=1}^{N} - c_{1} {x}_{i}}{N} + \\frac{\\sum_{i=1}^{N} {y}_{i}}{N}$"
      ],
      "text/plain": [
       "Eq(c_0, Sum(-c_1*x[i], (i, 1, N))/N + Sum(y[i], (i, 1, N))/N)"
      ]
     },
     "execution_count": 54,
     "metadata": {},
     "output_type": "execute_result"
    }
   ],
   "source": [
    "criteria_1_equation = criteria_1_equation.expand().doit()\n",
    "criteria_1_equation"
   ]
  },
  {
   "cell_type": "code",
   "execution_count": 76,
   "metadata": {},
   "outputs": [],
   "source": [
    "S_y,S_x,x_i,y_i = sp.symbols('S_y S_x x_i y_i')"
   ]
  },
  {
   "cell_type": "code",
   "execution_count": 77,
   "metadata": {},
   "outputs": [],
   "source": [
    "criteria_1_equation = criteria_1_equation.subs([(y[i],y_i),\n",
    "                         (x[i],x_i), \n",
    "                         ])"
   ]
  },
  {
   "cell_type": "code",
   "execution_count": 78,
   "metadata": {},
   "outputs": [
    {
     "data": {
      "text/latex": [
       "$\\displaystyle c_{0} = \\frac{\\sum_{i=1}^{N} - c_{1} {x}_{i}}{N} + \\frac{\\sum_{i=1}^{N} {y}_{i}}{N}$"
      ],
      "text/plain": [
       "Eq(c_0, Sum(-c_1*x[i], (i, 1, N))/N + Sum(y[i], (i, 1, N))/N)"
      ]
     },
     "execution_count": 78,
     "metadata": {},
     "output_type": "execute_result"
    }
   ],
   "source": [
    "criteria_1_equation"
   ]
  },
  {
   "cell_type": "code",
   "execution_count": 79,
   "metadata": {},
   "outputs": [
    {
     "data": {
      "text/latex": [
       "$\\displaystyle S_{y} = \\sum_{i=1}^{N} y_{i}$"
      ],
      "text/plain": [
       "Eq(S_y, Sum(y_i, (i, 1, N)))"
      ]
     },
     "execution_count": 79,
     "metadata": {},
     "output_type": "execute_result"
    }
   ],
   "source": [
    "S_y,S_x = sp.symbols('S_y S_x')\n",
    "S_y_equation = sp.Eq(S_y, sp.Sum(y_i,(i, 1, N)))\n",
    "S_y_equation"
   ]
  },
  {
   "cell_type": "code",
   "execution_count": 81,
   "metadata": {
    "scrolled": true
   },
   "outputs": [
    {
     "data": {
      "text/latex": [
       "$\\displaystyle S_{x} = \\sum_{i=1}^{N} x_{i}$"
      ],
      "text/plain": [
       "Eq(S_x, Sum(x_i, (i, 1, N)))"
      ]
     },
     "execution_count": 81,
     "metadata": {},
     "output_type": "execute_result"
    }
   ],
   "source": [
    "S_x_equation = sp.Eq(S_x, sp.Sum(x_i,(i, 1, N)))\n",
    "S_x_equation"
   ]
  },
  {
   "cell_type": "code",
   "execution_count": 85,
   "metadata": {},
   "outputs": [
    {
     "data": {
      "text/plain": [
       "{S_x: x_i*Sum(1, (i, 1, N)),\n",
       " S_y: y_i*Sum(1, (i, 1, N)),\n",
       " c_0: Sum(-c_1*x[i] + y[i], (i, 1, N))/N}"
      ]
     },
     "execution_count": 85,
     "metadata": {},
     "output_type": "execute_result"
    }
   ],
   "source": [
    "eqs=(S_y_equation,\n",
    "     S_x_equation,\n",
    "     criteria_1_equation\n",
    ")\n",
    "sp.solve(eqs, c_0, S_y,S_x,)"
   ]
  },
  {
   "cell_type": "code",
   "execution_count": 80,
   "metadata": {},
   "outputs": [
    {
     "data": {
      "text/latex": [
       "$\\displaystyle c_{0} = \\frac{\\sum_{i=1}^{N} - c_{1} {x}_{i}}{N} + \\frac{\\sum_{i=1}^{N} {y}_{i}}{N}$"
      ],
      "text/plain": [
       "Eq(c_0, Sum(-c_1*x[i], (i, 1, N))/N + Sum(y[i], (i, 1, N))/N)"
      ]
     },
     "execution_count": 80,
     "metadata": {},
     "output_type": "execute_result"
    }
   ],
   "source": [
    "criteria_1_equation.subs(S_y_equation.rhs,S_y_equation.lhs)"
   ]
  },
  {
   "cell_type": "markdown",
   "metadata": {},
   "source": [
    "## Square error should be minimized"
   ]
  },
  {
   "cell_type": "code",
   "execution_count": 12,
   "metadata": {
    "scrolled": false
   },
   "outputs": [
    {
     "data": {
      "text/latex": [
       "$\\displaystyle {\\epsilon}_{i}^{2} = \\sum_{i=1}^{N} \\left(- c_{0} - c_{1} {x}_{i} + {y}_{i}\\right)^{2}$"
      ],
      "text/plain": [
       "Eq(epsilon[i]**2, Sum((-c_0 - c_1*x[i] + y[i])**2, (i, 1, N)))"
      ]
     },
     "execution_count": 12,
     "metadata": {},
     "output_type": "execute_result"
    }
   ],
   "source": [
    "square_error_equation = sp.Eq(epsilon[i]**2,\n",
    "                              sp.Sum((sp.solve(epsilon_equation,epsilon[i])[0])**2, (i, 1, N)))\n",
    "square_error_equation"
   ]
  },
  {
   "cell_type": "code",
   "execution_count": 30,
   "metadata": {},
   "outputs": [
    {
     "data": {
      "text/latex": [
       "$\\displaystyle \\sum_{i=1}^{N} - 2 \\left(- c_{0} - c_{1} {x}_{i} + {y}_{i}\\right) {x}_{i} = 0$"
      ],
      "text/plain": [
       "Eq(Sum(-2*(-c_0 - c_1*x[i] + y[i])*x[i], (i, 1, N)), 0)"
      ]
     },
     "execution_count": 30,
     "metadata": {},
     "output_type": "execute_result"
    }
   ],
   "source": [
    "square_error_zero_derivative_equation = sp.Eq(square_error_equation.rhs.diff(c_1),0)\n",
    "square_error_zero_derivative_equation"
   ]
  },
  {
   "cell_type": "code",
   "execution_count": 34,
   "metadata": {},
   "outputs": [
    {
     "data": {
      "text/latex": [
       "$\\displaystyle \\sum_{i=1}^{N} 2 c_{0} {x}_{i} + \\sum_{i=1}^{N} 2 c_{1} {x}_{i}^{2} + \\sum_{i=1}^{N} - 2 {x}_{i} {y}_{i} = 0$"
      ],
      "text/plain": [
       "Eq(Sum(2*c_0*x[i], (i, 1, N)) + Sum(2*c_1*x[i]**2, (i, 1, N)) + Sum(-2*x[i]*y[i], (i, 1, N)), 0)"
      ]
     },
     "execution_count": 34,
     "metadata": {},
     "output_type": "execute_result"
    }
   ],
   "source": [
    "square_error_zero_derivative_equation = square_error_zero_derivative_equation.expand().doit()\n",
    "square_error_zero_derivative_equation"
   ]
  },
  {
   "cell_type": "code",
   "execution_count": 35,
   "metadata": {},
   "outputs": [
    {
     "data": {
      "text/latex": [
       "$\\displaystyle \\sum_{i=1}^{N} 2 c_{1} {x}_{i}^{2} + \\sum_{i=1}^{N} - 2 {x}_{i} {y}_{i} + \\sum_{i=1}^{N} \\frac{2 {x}_{i} \\sum_{i=1}^{N} - c_{1} {x}_{i}}{N} + \\sum_{i=1}^{N} \\frac{2 {x}_{i} \\sum_{i=1}^{N} {y}_{i}}{N} = 0$"
      ],
      "text/plain": [
       "Eq(Sum(2*c_1*x[i]**2, (i, 1, N)) + Sum(-2*x[i]*y[i], (i, 1, N)) + Sum(2*x[i]*Sum(-c_1*x[i], (i, 1, N))/N, (i, 1, N)) + Sum(2*x[i]*Sum(y[i], (i, 1, N))/N, (i, 1, N)), 0)"
      ]
     },
     "execution_count": 35,
     "metadata": {},
     "output_type": "execute_result"
    }
   ],
   "source": [
    "square_error_zero_derivative_equation = square_error_zero_derivative_equation.subs(c_0, \n",
    "                                                 sp.solve(criteria_1_equation, c_0)[0]).doit().expand()\n",
    "square_error_zero_derivative_equation"
   ]
  },
  {
   "cell_type": "code",
   "execution_count": 24,
   "metadata": {},
   "outputs": [
    {
     "data": {
      "text/plain": [
       "[]"
      ]
     },
     "execution_count": 24,
     "metadata": {},
     "output_type": "execute_result"
    }
   ],
   "source": [
    "sp.solve(square_error_zero_derivative_equation,c_1)"
   ]
  },
  {
   "cell_type": "code",
   "execution_count": 156,
   "metadata": {},
   "outputs": [
    {
     "ename": "IndexError",
     "evalue": "list index out of range",
     "output_type": "error",
     "traceback": [
      "\u001b[1;31m---------------------------------------------------------------------------\u001b[0m",
      "\u001b[1;31mIndexError\u001b[0m                                Traceback (most recent call last)",
      "\u001b[1;32m<ipython-input-156-2cbf2657f81d>\u001b[0m in \u001b[0;36m<module>\u001b[1;34m\u001b[0m\n\u001b[1;32m----> 1\u001b[1;33m \u001b[0msolution\u001b[0m \u001b[1;33m=\u001b[0m \u001b[0msp\u001b[0m\u001b[1;33m.\u001b[0m\u001b[0msolve\u001b[0m\u001b[1;33m(\u001b[0m\u001b[0meqs\u001b[0m\u001b[1;33m,\u001b[0m\u001b[0mc_0\u001b[0m\u001b[1;33m,\u001b[0m\u001b[0mc_1\u001b[0m\u001b[1;33m)\u001b[0m\u001b[1;33m[\u001b[0m\u001b[1;36m0\u001b[0m\u001b[1;33m]\u001b[0m\u001b[1;33m\u001b[0m\u001b[0m\n\u001b[0m",
      "\u001b[1;31mIndexError\u001b[0m: list index out of range"
     ]
    }
   ],
   "source": [
    "solution = sp.solve(eqs,c_0,c_1)[0]"
   ]
  },
  {
   "cell_type": "code",
   "execution_count": 157,
   "metadata": {},
   "outputs": [
    {
     "data": {
      "text/latex": [
       "$\\displaystyle c_{0} = \\frac{\\sum_{i=1}^{N} \\left(- c_{1} {x}_{i} + {y}_{i}\\right)}{N}$"
      ],
      "text/plain": [
       "Eq(c_0, Sum(-c_1*x[i] + y[i], (i, 1, N))/N)"
      ]
     },
     "execution_count": 157,
     "metadata": {},
     "output_type": "execute_result"
    }
   ],
   "source": [
    "c0_equation = sp.Eq(c_0,solution[0].simplify())\n",
    "c0_equation"
   ]
  },
  {
   "cell_type": "code",
   "execution_count": 149,
   "metadata": {},
   "outputs": [
    {
     "data": {
      "text/latex": [
       "$\\displaystyle \\text{True}$"
      ],
      "text/plain": [
       "True"
      ]
     },
     "execution_count": 149,
     "metadata": {},
     "output_type": "execute_result"
    }
   ],
   "source": [
    "c1_equation = sp.Eq(c_1,solution[1].simplify())\n",
    "c1_equation"
   ]
  },
  {
   "cell_type": "code",
   "execution_count": 150,
   "metadata": {},
   "outputs": [
    {
     "data": {
      "text/latex": [
       "$\\displaystyle - \\frac{\\sum_{i=1}^{N} \\frac{\\left(\\sum_{i=1}^{N} - 2 c_{1} {y}_{i} + \\sum_{i=1}^{N} 2 c_{1}^{2} {x}_{i}\\right) {y}_{i}}{\\sum_{i=1}^{N} \\left(- c_{1} {x}_{i} + {y}_{i}\\right)} + \\sum_{i=1}^{N} \\frac{\\left(\\left(\\sum_{i=1}^{N} - 2 c_{1} {y}_{i} + \\sum_{i=1}^{N} 2 c_{1}^{2} {x}_{i}\\right)^{2}\\right) {x}_{i}}{2 \\left(\\sum_{i=1}^{N} \\left(- c_{1} {x}_{i} + {y}_{i}\\right)\\right)^{2}}}{2 \\sum_{i=1}^{N} \\left(\\frac{\\left(\\sum_{i=1}^{N} - 2 c_{1} {y}_{i} + \\sum_{i=1}^{N} 2 c_{1}^{2} {x}_{i}\\right) {x}_{i}}{2 \\sum_{i=1}^{N} \\left(- c_{1} {x}_{i} + {y}_{i}\\right)} + {y}_{i}\\right)}$"
      ],
      "text/plain": [
       "-(Sum((Sum(-2*c_1*y[i], (i, 1, N)) + Sum(2*c_1**2*x[i], (i, 1, N)))*y[i]/Sum(-c_1*x[i] + y[i], (i, 1, N)), (i, 1, N)) + Sum((Sum(-2*c_1*y[i], (i, 1, N)) + Sum(2*c_1**2*x[i], (i, 1, N)))**2*x[i]/(2*Sum(-c_1*x[i] + y[i], (i, 1, N))**2), (i, 1, N)))/(2*Sum((Sum(-2*c_1*y[i], (i, 1, N)) + Sum(2*c_1**2*x[i], (i, 1, N)))*x[i]/(2*Sum(-c_1*x[i] + y[i], (i, 1, N))) + y[i], (i, 1, N)))"
      ]
     },
     "execution_count": 150,
     "metadata": {},
     "output_type": "execute_result"
    }
   ],
   "source": [
    "solution[1]"
   ]
  },
  {
   "cell_type": "code",
   "execution_count": null,
   "metadata": {},
   "outputs": [],
   "source": [
    "s = sp.Sum(c_0+c_1*x[i], (i, 1, N))\n"
   ]
  },
  {
   "cell_type": "code",
   "execution_count": 63,
   "metadata": {},
   "outputs": [
    {
     "data": {
      "text/latex": [
       "$\\displaystyle - c_{0} - c_{1} {x}_{i} + {y}_{i}$"
      ],
      "text/plain": [
       "-c_0 - c_1*x[i] + y[i]"
      ]
     },
     "execution_count": 63,
     "metadata": {},
     "output_type": "execute_result"
    }
   ],
   "source": [
    "sp.solve(epsilon_equation,epsilon[i])[0]"
   ]
  },
  {
   "cell_type": "code",
   "execution_count": null,
   "metadata": {},
   "outputs": [],
   "source": []
  },
  {
   "cell_type": "code",
   "execution_count": null,
   "metadata": {},
   "outputs": [],
   "source": [
    "sp.Vector()"
   ]
  },
  {
   "cell_type": "code",
   "execution_count": 7,
   "metadata": {},
   "outputs": [
    {
     "data": {
      "text/latex": [
       "$\\displaystyle y = c_{0} + c_{1} x + \\epsilon$"
      ],
      "text/plain": [
       "Eq(y, c_0 + c_1*x + epsilon)"
      ]
     },
     "execution_count": 7,
     "metadata": {},
     "output_type": "execute_result"
    }
   ],
   "source": [
    "linear_equation"
   ]
  },
  {
   "cell_type": "code",
   "execution_count": 16,
   "metadata": {},
   "outputs": [
    {
     "data": {
      "text/latex": [
       "$\\displaystyle \\left[\\begin{matrix}a & b & c\\\\d & e & f\\end{matrix}\\right]$"
      ],
      "text/plain": [
       "[[a, b, c], [d, e, f]]"
      ]
     },
     "execution_count": 16,
     "metadata": {},
     "output_type": "execute_result"
    }
   ],
   "source": [
    "from sympy import IndexedBase\n",
    "from sympy.tensor.array import Array\n",
    "\n",
    "a,b,c,d,e,f = sp.symbols(\"a b c d e f\")\n",
    "\n",
    "X = Array([[a, b, c], [d, e, f]])\n",
    "X"
   ]
  },
  {
   "cell_type": "code",
   "execution_count": 22,
   "metadata": {},
   "outputs": [
    {
     "data": {
      "text/latex": [
       "$\\displaystyle \\left[\\left[\\begin{matrix}1\\end{matrix}\\right]\\right]$"
      ],
      "text/plain": [
       "[[1]]"
      ]
     },
     "execution_count": 22,
     "metadata": {},
     "output_type": "execute_result"
    }
   ],
   "source": [
    "Array([[1]])"
   ]
  },
  {
   "cell_type": "code",
   "execution_count": 29,
   "metadata": {},
   "outputs": [],
   "source": [
    "X = IndexedBase(\"X\")\n",
    "\n",
    "W = IndexedBase(\"W\")\n",
    "\n",
    "i, j, M, K = sp.var(\"i,j,M,K\", integer=True)\n",
    "s = sp.Sum(X[i, j]*W[j], (i, 1, M), (j, 1, K))"
   ]
  },
  {
   "cell_type": "code",
   "execution_count": 30,
   "metadata": {
    "scrolled": true
   },
   "outputs": [
    {
     "data": {
      "text/latex": [
       "$\\displaystyle \\sum_{\\substack{1 \\leq i \\leq M\\\\1 \\leq j \\leq K}} {W}_{j} {X}_{i,j}$"
      ],
      "text/plain": [
       "Sum(W[j]*X[i, j], (i, 1, M), (j, 1, K))"
      ]
     },
     "execution_count": 30,
     "metadata": {},
     "output_type": "execute_result"
    }
   ],
   "source": [
    "s"
   ]
  },
  {
   "cell_type": "code",
   "execution_count": 32,
   "metadata": {},
   "outputs": [],
   "source": []
  },
  {
   "cell_type": "code",
   "execution_count": 33,
   "metadata": {},
   "outputs": [
    {
     "data": {
      "text/latex": [
       "$\\displaystyle \\sum_{i=1}^{N} \\left(c_{0} + c_{1} {x}_{i}\\right)$"
      ],
      "text/plain": [
       "Sum(c_0 + c_1*x[i], (i, 1, N))"
      ]
     },
     "execution_count": 33,
     "metadata": {},
     "output_type": "execute_result"
    }
   ],
   "source": [
    "s"
   ]
  },
  {
   "cell_type": "code",
   "execution_count": null,
   "metadata": {},
   "outputs": [],
   "source": []
  }
 ],
 "metadata": {
  "kernelspec": {
   "display_name": "Python 3",
   "language": "python",
   "name": "python3"
  },
  "language_info": {
   "codemirror_mode": {
    "name": "ipython",
    "version": 3
   },
   "file_extension": ".py",
   "mimetype": "text/x-python",
   "name": "python",
   "nbconvert_exporter": "python",
   "pygments_lexer": "ipython3",
   "version": "3.5.4"
  }
 },
 "nbformat": 4,
 "nbformat_minor": 4
}
