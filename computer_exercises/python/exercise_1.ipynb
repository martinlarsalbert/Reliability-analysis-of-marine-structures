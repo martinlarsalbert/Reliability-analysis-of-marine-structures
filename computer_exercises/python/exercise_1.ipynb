{
 "cells": [
  {
   "cell_type": "markdown",
   "metadata": {},
   "source": [
    "# Exercise 1"
   ]
  },
  {
   "cell_type": "code",
   "execution_count": 1,
   "metadata": {},
   "outputs": [],
   "source": [
    "import matplotlib.pyplot as plt\n",
    "import pandas as pd\n",
    "import numpy as np\n",
    "import sympy as sp\n",
    "from scipy.stats import norm"
   ]
  },
  {
   "cell_type": "markdown",
   "metadata": {},
   "source": [
    "## 1.1 Distribution of a random variable X\n",
    "Make sure you understand what the probability and density functions are and how they are related to the cumulative distribution function.\n",
    "Let X denotes a continuous random variable, $X\\in[0, +\\infty]$, with a probability density function (pdf) $f(x)$ and cumulative distribution function (cdf) $F(x)$. \n",
    "* Please write down the relationship between $F(x)$ and $f(x)$.\n"
   ]
  },
  {
   "cell_type": "code",
   "execution_count": 2,
   "metadata": {},
   "outputs": [],
   "source": [
    "x,t = sp.symbols('x t')\n",
    "f = sp.Function('f')(x)  # PDF\n",
    "F = sp.Function('F')(x)  # CDF"
   ]
  },
  {
   "cell_type": "code",
   "execution_count": 3,
   "metadata": {},
   "outputs": [
    {
     "data": {
      "text/latex": [
       "$\\displaystyle F{\\left(x \\right)} = \\int\\limits_{-\\infty}^{x} f{\\left(x \\right)}\\, dt$"
      ],
      "text/plain": [
       "Eq(F(x), Integral(f(x), (t, -oo, x)))"
      ]
     },
     "execution_count": 3,
     "metadata": {},
     "output_type": "execute_result"
    }
   ],
   "source": [
    "equation_CDF = sp.Eq(F,sp.Integral(f,(t, -sp.oo, x)))\n",
    "equation_CDF"
   ]
  },
  {
   "cell_type": "markdown",
   "metadata": {},
   "source": [
    "* Please write down the mean and variance of the random variable $X$"
   ]
  },
  {
   "cell_type": "code",
   "execution_count": 4,
   "metadata": {},
   "outputs": [],
   "source": [
    "x_mean = sp.symbols('\\overline{x}')\n",
    "sigma = sp.symbols('sigma') ## Standard deviation\n",
    "n = sp.symbols('n')"
   ]
  },
  {
   "cell_type": "markdown",
   "metadata": {},
   "source": [
    "### Mean value:"
   ]
  },
  {
   "cell_type": "code",
   "execution_count": 5,
   "metadata": {},
   "outputs": [
    {
     "data": {
      "text/latex": [
       "$\\displaystyle \\overline{x} = \\frac{\\sum_{x=1}^{n} x}{n}$"
      ],
      "text/plain": [
       "Eq(\\overline{x}, Sum(x, (x, 1, n))/n)"
      ]
     },
     "execution_count": 5,
     "metadata": {},
     "output_type": "execute_result"
    }
   ],
   "source": [
    "equation_mean_x = sp.Eq(x_mean,1/n*sp.Sum(x,(x, 1,n)))\n",
    "equation_mean_x"
   ]
  },
  {
   "cell_type": "markdown",
   "metadata": {},
   "source": [
    "### Variance"
   ]
  },
  {
   "cell_type": "code",
   "execution_count": 6,
   "metadata": {},
   "outputs": [
    {
     "data": {
      "text/latex": [
       "$\\displaystyle \\sigma^{2} = \\frac{\\sum_{x=1}^{n} \\left(- \\overline{x} + x\\right)^{2}}{n - 1}$"
      ],
      "text/plain": [
       "Eq(sigma**2, Sum((-\\overline{x} + x)**2, (x, 1, n))/(n - 1))"
      ]
     },
     "execution_count": 6,
     "metadata": {},
     "output_type": "execute_result"
    }
   ],
   "source": [
    "equation_variance_x = sp.Eq(sigma**2,1/(n-1)*sp.Sum((x-x_mean)**2,(x, 1,n)))\n",
    "equation_variance_x"
   ]
  },
  {
   "cell_type": "markdown",
   "metadata": {},
   "source": [
    "## 1.2\tEmpirical distribution of X"
   ]
  },
  {
   "cell_type": "code",
   "execution_count": 7,
   "metadata": {},
   "outputs": [],
   "source": [
    "N=1000\n",
    "MU=10\n",
    "SIGMA=30\n",
    "x = np.random.normal(loc=MU, scale=SIGMA, size=N)"
   ]
  },
  {
   "cell_type": "markdown",
   "metadata": {},
   "source": [
    "Compute the empirical distribution of $X$, $F_1(x)$, and plot it in a figure."
   ]
  },
  {
   "cell_type": "code",
   "execution_count": 8,
   "metadata": {},
   "outputs": [
    {
     "data": {
      "image/png": "[encoded data removed]",
      "text/plain": [
       "<Figure size 432x288 with 1 Axes>"
      ]
     },
     "metadata": {
      "needs_background": "light"
     },
     "output_type": "display_data"
    }
   ],
   "source": [
    "fig,ax = plt.subplots()\n",
    "\n",
    "values = np.sort(x)\n",
    "density = np.arange(N)/N\n",
    "\n",
    "ax.plot(values,density,'-');"
   ]
  },
  {
   "cell_type": "code",
   "execution_count": 9,
   "metadata": {},
   "outputs": [
    {
     "data": {
      "image/png": "[encoded data removed]",
      "text/plain": [
       "<Figure size 432x288 with 1 Axes>"
      ]
     },
     "metadata": {
      "needs_background": "light"
     },
     "output_type": "display_data"
    }
   ],
   "source": [
    "fig,ax = plt.subplots()\n",
    "ax.hist(values, bins=100);"
   ]
  },
  {
   "cell_type": "markdown",
   "metadata": {},
   "source": [
    "## 1.3\tQuantiles of X\n",
    "The concept of quantile is important in reliability analysis and extreme predictions. The quantile of a distribution could be defined in different ways. For the random variable $X$, the quantile as a number of $x_{\\alpha}$ is defined as,\n",
    "$$F(x_{\\alpha})=P(X<x_{\\alpha})=\\alpha$$\n"
   ]
  },
  {
   "cell_type": "code",
   "execution_count": 10,
   "metadata": {},
   "outputs": [
    {
     "data": {
      "text/plain": [
       "-39.345608808544185"
      ]
     },
     "execution_count": 10,
     "metadata": {},
     "output_type": "execute_result"
    }
   ],
   "source": [
    "norm.ppf(0.05,loc=MU, scale=SIGMA)"
   ]
  },
  {
   "cell_type": "code",
   "execution_count": 11,
   "metadata": {},
   "outputs": [
    {
     "data": {
      "text/plain": [
       "59.34560880854416"
      ]
     },
     "execution_count": 11,
     "metadata": {},
     "output_type": "execute_result"
    }
   ],
   "source": [
    "norm.ppf(0.95,loc=MU, scale=SIGMA)"
   ]
  },
  {
   "cell_type": "markdown",
   "metadata": {},
   "source": [
    "### Numerical quantiles:"
   ]
  },
  {
   "cell_type": "code",
   "execution_count": 12,
   "metadata": {},
   "outputs": [
    {
     "data": {
      "text/plain": [
       "-38.0394366243604"
      ]
     },
     "execution_count": 12,
     "metadata": {},
     "output_type": "execute_result"
    }
   ],
   "source": [
    "np.quantile(x,0.05)"
   ]
  },
  {
   "cell_type": "code",
   "execution_count": 13,
   "metadata": {},
   "outputs": [
    {
     "data": {
      "text/plain": [
       "59.57970975581292"
      ]
     },
     "execution_count": 13,
     "metadata": {},
     "output_type": "execute_result"
    }
   ],
   "source": [
    "np.quantile(x,0.95)"
   ]
  },
  {
   "cell_type": "markdown",
   "metadata": {},
   "source": [
    "## 2\tDistributions of two or more random variables\n",
    "Let $X$, $Y$ denote two independent random variables, while $X, Y\\in[0, +\\infty]$. The joint pdf and cdf are represented by $f_{X,Y}(x,y)$ and $F_{X,Y}(x,y)$, respectively. "
   ]
  },
  {
   "cell_type": "markdown",
   "metadata": {},
   "source": [
    "* Please write down the relation between the joint pdf and cdf of X and Y."
   ]
  },
  {
   "cell_type": "code",
   "execution_count": 27,
   "metadata": {},
   "outputs": [],
   "source": [
    "x,y,zeta_1,zeta_2 = sp.symbols('x y zeta_1 zeta_2')\n",
    "f_x_y = sp.Function('f_x,y')(x,y)  # PDF\n",
    "F_x_y = sp.Function('F_x,y')(x,y)  # CDF\n"
   ]
  },
  {
   "cell_type": "code",
   "execution_count": 28,
   "metadata": {},
   "outputs": [
    {
     "data": {
      "text/latex": [
       "$\\displaystyle \\operatorname{F_{x,y}}{\\left(x,y \\right)} = \\int\\limits_{-\\infty}^{x}\\int\\limits_{-\\infty}^{y} \\operatorname{f_{x,y}}{\\left(x,y \\right)}\\, d\\zeta_{2}\\, d\\zeta_{1}$"
      ],
      "text/plain": [
       "Eq(F_x,y(x, y), Integral(f_x,y(x, y), (zeta_2, -oo, y), (zeta_1, -oo, x)))"
      ]
     },
     "execution_count": 28,
     "metadata": {},
     "output_type": "execute_result"
    }
   ],
   "source": [
    "equation_CDF2 = sp.Eq(F_x_y,sp.Integral(f_x_y,(zeta_2, -sp.oo, y),(zeta_1, -sp.oo, x)))\n",
    "equation_CDF2"
   ]
  },
  {
   "cell_type": "markdown",
   "metadata": {},
   "source": [
    "* Please write down the marginal distributions of X and Y, respectively."
   ]
  },
  {
   "cell_type": "code",
   "execution_count": 31,
   "metadata": {},
   "outputs": [
    {
     "data": {
      "text/latex": [
       "$\\displaystyle \\operatorname{F_{x}}{\\left(x \\right)} = \\int\\limits_{-\\infty}^{x}\\int\\limits_{-\\infty}^{\\infty} \\operatorname{f_{x,y}}{\\left(x,y \\right)}\\, d\\zeta_{2}\\, d\\zeta_{1}$"
      ],
      "text/plain": [
       "Eq(F_x(x), Integral(f_x,y(x, y), (zeta_2, -oo, oo), (zeta_1, -oo, x)))"
      ]
     },
     "execution_count": 31,
     "metadata": {},
     "output_type": "execute_result"
    }
   ],
   "source": [
    "F_x = sp.Function('F_x')(x)  # CDF\n",
    "sp.Eq(F_x,sp.Integral(f_x_y,(zeta_2, -sp.oo, sp.oo),(zeta_1, -sp.oo, x)))"
   ]
  },
  {
   "cell_type": "code",
   "execution_count": 32,
   "metadata": {},
   "outputs": [
    {
     "data": {
      "text/latex": [
       "$\\displaystyle \\operatorname{F_{y}}{\\left(y \\right)} = \\int\\limits_{-\\infty}^{\\infty}\\int\\limits_{-\\infty}^{y} \\operatorname{f_{x,y}}{\\left(x,y \\right)}\\, d\\zeta_{2}\\, d\\zeta_{1}$"
      ],
      "text/plain": [
       "Eq(F_y(y), Integral(f_x,y(x, y), (zeta_2, -oo, y), (zeta_1, -oo, oo)))"
      ]
     },
     "execution_count": 32,
     "metadata": {},
     "output_type": "execute_result"
    }
   ],
   "source": [
    "F_y = sp.Function('F_y')(y)  # CDF\n",
    "sp.Eq(F_y,sp.Integral(f_x_y,(zeta_2, -sp.oo, y),(zeta_1, -sp.oo, sp.oo)))"
   ]
  },
  {
   "cell_type": "code",
   "execution_count": 33,
   "metadata": {},
   "outputs": [],
   "source": [
    "from sympy.stats import P, E, variance, Die, Normal"
   ]
  },
  {
   "cell_type": "markdown",
   "metadata": {},
   "source": [
    "* Please write down the expected value and variance of X and Y, respectively.\n",
    "# ???"
   ]
  },
  {
   "cell_type": "code",
   "execution_count": null,
   "metadata": {},
   "outputs": [],
   "source": []
  }
 ],
 "metadata": {
  "kernelspec": {
   "display_name": "Python 3",
   "language": "python",
   "name": "python3"
  },
  "language_info": {
   "codemirror_mode": {
    "name": "ipython",
    "version": 3
   },
   "file_extension": ".py",
   "mimetype": "text/x-python",
   "name": "python",
   "nbconvert_exporter": "python",
   "pygments_lexer": "ipython3",
   "version": "3.5.4"
  }
 },
 "nbformat": 4,
 "nbformat_minor": 4
}
