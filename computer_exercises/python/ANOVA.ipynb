{
 "cells": [
  {
   "cell_type": "code",
   "execution_count": 21,
   "metadata": {},
   "outputs": [],
   "source": [
    "import pandas as pd\n",
    "import statsmodels.api as sm\n",
    "from statsmodels.formula.api import ols\n",
    "import scipy.stats"
   ]
  },
  {
   "cell_type": "code",
   "execution_count": 2,
   "metadata": {},
   "outputs": [],
   "source": [
    "from jupyterthemes import jtplot\n",
    "jtplot.style(theme='onedork', context='notebook', ticks=True, grid=False)"
   ]
  },
  {
   "cell_type": "markdown",
   "metadata": {},
   "source": [
    "Fake some data:"
   ]
  },
  {
   "cell_type": "code",
   "execution_count": 3,
   "metadata": {},
   "outputs": [],
   "source": [
    "A = [12.6, 12, 11.8, 11.9, 13, 12.5, 14]\n",
    "B = [10, 10.2, 10, 12, 14, 13]\n",
    "C = [10.1, 13, 13.4, 12.9, 8.9, 10.7, 13.6, 12]\n",
    "all_scores = A + B + C\n",
    "company_names = (['A'] * len(A)) +  (['B'] * len(B)) +  (['C'] * len(C))\n",
    "data = pd.DataFrame({'company': company_names, 'score': all_scores})"
   ]
  },
  {
   "cell_type": "code",
   "execution_count": 4,
   "metadata": {
    "scrolled": true
   },
   "outputs": [
    {
     "data": {
      "text/html": [
       "<div>\n",
       "<style scoped>\n",
       "    .dataframe tbody tr th:only-of-type {\n",
       "        vertical-align: middle;\n",
       "    }\n",
       "\n",
       "    .dataframe tbody tr th {\n",
       "        vertical-align: top;\n",
       "    }\n",
       "\n",
       "    .dataframe thead th {\n",
       "        text-align: right;\n",
       "    }\n",
       "</style>\n",
       "<table border=\"1\" class=\"dataframe\">\n",
       "  <thead>\n",
       "    <tr style=\"text-align: right;\">\n",
       "      <th></th>\n",
       "      <th>score</th>\n",
       "    </tr>\n",
       "    <tr>\n",
       "      <th>company</th>\n",
       "      <th></th>\n",
       "    </tr>\n",
       "  </thead>\n",
       "  <tbody>\n",
       "    <tr>\n",
       "      <th>A</th>\n",
       "      <td>12.542857</td>\n",
       "    </tr>\n",
       "    <tr>\n",
       "      <th>B</th>\n",
       "      <td>11.533333</td>\n",
       "    </tr>\n",
       "    <tr>\n",
       "      <th>C</th>\n",
       "      <td>11.825000</td>\n",
       "    </tr>\n",
       "  </tbody>\n",
       "</table>\n",
       "</div>"
      ],
      "text/plain": [
       "             score\n",
       "company           \n",
       "A        12.542857\n",
       "B        11.533333\n",
       "C        11.825000"
      ]
     },
     "execution_count": 4,
     "metadata": {},
     "output_type": "execute_result"
    }
   ],
   "source": [
    "data.groupby('company').mean()"
   ]
  },
  {
   "cell_type": "markdown",
   "metadata": {},
   "source": [
    "## ANOVA using statsmodels"
   ]
  },
  {
   "cell_type": "code",
   "execution_count": 5,
   "metadata": {},
   "outputs": [
    {
     "data": {
      "text/html": [
       "<div>\n",
       "<style scoped>\n",
       "    .dataframe tbody tr th:only-of-type {\n",
       "        vertical-align: middle;\n",
       "    }\n",
       "\n",
       "    .dataframe tbody tr th {\n",
       "        vertical-align: top;\n",
       "    }\n",
       "\n",
       "    .dataframe thead th {\n",
       "        text-align: right;\n",
       "    }\n",
       "</style>\n",
       "<table border=\"1\" class=\"dataframe\">\n",
       "  <thead>\n",
       "    <tr style=\"text-align: right;\">\n",
       "      <th></th>\n",
       "      <th>df</th>\n",
       "      <th>sum_sq</th>\n",
       "      <th>mean_sq</th>\n",
       "      <th>F</th>\n",
       "      <th>PR(&gt;F)</th>\n",
       "    </tr>\n",
       "  </thead>\n",
       "  <tbody>\n",
       "    <tr>\n",
       "      <th>company</th>\n",
       "      <td>2.0</td>\n",
       "      <td>3.606905</td>\n",
       "      <td>1.803452</td>\n",
       "      <td>0.821297</td>\n",
       "      <td>0.455683</td>\n",
       "    </tr>\n",
       "    <tr>\n",
       "      <th>Residual</th>\n",
       "      <td>18.0</td>\n",
       "      <td>39.525476</td>\n",
       "      <td>2.195860</td>\n",
       "      <td>NaN</td>\n",
       "      <td>NaN</td>\n",
       "    </tr>\n",
       "  </tbody>\n",
       "</table>\n",
       "</div>"
      ],
      "text/plain": [
       "            df     sum_sq   mean_sq         F    PR(>F)\n",
       "company    2.0   3.606905  1.803452  0.821297  0.455683\n",
       "Residual  18.0  39.525476  2.195860       NaN       NaN"
      ]
     },
     "execution_count": 5,
     "metadata": {},
     "output_type": "execute_result"
    }
   ],
   "source": [
    "lm = ols('score ~ company',data=data).fit()\n",
    "table = sm.stats.anova_lm(lm)\n",
    "table"
   ]
  },
  {
   "cell_type": "markdown",
   "metadata": {},
   "source": [
    "## 3. 1-Way ANOVA by hand (from scratch)"
   ]
  },
  {
   "cell_type": "markdown",
   "metadata": {},
   "source": [
    "### compute overall mean"
   ]
  },
  {
   "cell_type": "code",
   "execution_count": 6,
   "metadata": {
    "scrolled": true
   },
   "outputs": [
    {
     "data": {
      "text/plain": [
       "11.980952380952381"
      ]
     },
     "execution_count": 6,
     "metadata": {},
     "output_type": "execute_result"
    }
   ],
   "source": [
    "overall_mean = data['score'].mean()\n",
    "overall_mean"
   ]
  },
  {
   "cell_type": "markdown",
   "metadata": {},
   "source": [
    "### compute *Sum of Squares Total*"
   ]
  },
  {
   "cell_type": "code",
   "execution_count": 7,
   "metadata": {
    "scrolled": true
   },
   "outputs": [
    {
     "data": {
      "text/plain": [
       "43.132380952380956"
      ]
     },
     "execution_count": 7,
     "metadata": {},
     "output_type": "execute_result"
    }
   ],
   "source": [
    "data['overall_mean'] = overall_mean\n",
    "ss_total = sum((data['score'] - data['overall_mean'])**2)\n",
    "ss_total"
   ]
  },
  {
   "cell_type": "markdown",
   "metadata": {},
   "source": [
    "### compute group means"
   ]
  },
  {
   "cell_type": "code",
   "execution_count": 8,
   "metadata": {},
   "outputs": [
    {
     "data": {
      "text/html": [
       "<div>\n",
       "<style scoped>\n",
       "    .dataframe tbody tr th:only-of-type {\n",
       "        vertical-align: middle;\n",
       "    }\n",
       "\n",
       "    .dataframe tbody tr th {\n",
       "        vertical-align: top;\n",
       "    }\n",
       "\n",
       "    .dataframe thead th {\n",
       "        text-align: right;\n",
       "    }\n",
       "</style>\n",
       "<table border=\"1\" class=\"dataframe\">\n",
       "  <thead>\n",
       "    <tr style=\"text-align: right;\">\n",
       "      <th></th>\n",
       "      <th>group_mean</th>\n",
       "      <th>overall_mean</th>\n",
       "    </tr>\n",
       "    <tr>\n",
       "      <th>company</th>\n",
       "      <th></th>\n",
       "      <th></th>\n",
       "    </tr>\n",
       "  </thead>\n",
       "  <tbody>\n",
       "    <tr>\n",
       "      <th>A</th>\n",
       "      <td>12.542857</td>\n",
       "      <td>11.980952</td>\n",
       "    </tr>\n",
       "    <tr>\n",
       "      <th>B</th>\n",
       "      <td>11.533333</td>\n",
       "      <td>11.980952</td>\n",
       "    </tr>\n",
       "    <tr>\n",
       "      <th>C</th>\n",
       "      <td>11.825000</td>\n",
       "      <td>11.980952</td>\n",
       "    </tr>\n",
       "  </tbody>\n",
       "</table>\n",
       "</div>"
      ],
      "text/plain": [
       "         group_mean  overall_mean\n",
       "company                          \n",
       "A         12.542857     11.980952\n",
       "B         11.533333     11.980952\n",
       "C         11.825000     11.980952"
      ]
     },
     "execution_count": 8,
     "metadata": {},
     "output_type": "execute_result"
    }
   ],
   "source": [
    "group_means = data.groupby('company').mean()\n",
    "group_means = group_means.rename(columns = {'score': 'group_mean'})\n",
    "group_means"
   ]
  },
  {
   "cell_type": "code",
   "execution_count": 13,
   "metadata": {},
   "outputs": [],
   "source": [
    "# add group means and overall mean to the original data frame\n",
    "data = data.merge(group_means, left_on = 'company', right_index = True, suffixes=('','_y'))"
   ]
  },
  {
   "cell_type": "code",
   "execution_count": 14,
   "metadata": {},
   "outputs": [
    {
     "data": {
      "text/html": [
       "<div>\n",
       "<style scoped>\n",
       "    .dataframe tbody tr th:only-of-type {\n",
       "        vertical-align: middle;\n",
       "    }\n",
       "\n",
       "    .dataframe tbody tr th {\n",
       "        vertical-align: top;\n",
       "    }\n",
       "\n",
       "    .dataframe thead th {\n",
       "        text-align: right;\n",
       "    }\n",
       "</style>\n",
       "<table border=\"1\" class=\"dataframe\">\n",
       "  <thead>\n",
       "    <tr style=\"text-align: right;\">\n",
       "      <th></th>\n",
       "      <th>company</th>\n",
       "      <th>score</th>\n",
       "      <th>overall_mean_x</th>\n",
       "      <th>group_mean</th>\n",
       "      <th>overall_mean_y</th>\n",
       "      <th>group_mean_y</th>\n",
       "      <th>overall_mean</th>\n",
       "    </tr>\n",
       "  </thead>\n",
       "  <tbody>\n",
       "    <tr>\n",
       "      <th>0</th>\n",
       "      <td>A</td>\n",
       "      <td>12.6</td>\n",
       "      <td>11.980952</td>\n",
       "      <td>12.542857</td>\n",
       "      <td>11.980952</td>\n",
       "      <td>12.542857</td>\n",
       "      <td>11.980952</td>\n",
       "    </tr>\n",
       "    <tr>\n",
       "      <th>1</th>\n",
       "      <td>A</td>\n",
       "      <td>12.0</td>\n",
       "      <td>11.980952</td>\n",
       "      <td>12.542857</td>\n",
       "      <td>11.980952</td>\n",
       "      <td>12.542857</td>\n",
       "      <td>11.980952</td>\n",
       "    </tr>\n",
       "    <tr>\n",
       "      <th>2</th>\n",
       "      <td>A</td>\n",
       "      <td>11.8</td>\n",
       "      <td>11.980952</td>\n",
       "      <td>12.542857</td>\n",
       "      <td>11.980952</td>\n",
       "      <td>12.542857</td>\n",
       "      <td>11.980952</td>\n",
       "    </tr>\n",
       "    <tr>\n",
       "      <th>3</th>\n",
       "      <td>A</td>\n",
       "      <td>11.9</td>\n",
       "      <td>11.980952</td>\n",
       "      <td>12.542857</td>\n",
       "      <td>11.980952</td>\n",
       "      <td>12.542857</td>\n",
       "      <td>11.980952</td>\n",
       "    </tr>\n",
       "    <tr>\n",
       "      <th>4</th>\n",
       "      <td>A</td>\n",
       "      <td>13.0</td>\n",
       "      <td>11.980952</td>\n",
       "      <td>12.542857</td>\n",
       "      <td>11.980952</td>\n",
       "      <td>12.542857</td>\n",
       "      <td>11.980952</td>\n",
       "    </tr>\n",
       "    <tr>\n",
       "      <th>5</th>\n",
       "      <td>A</td>\n",
       "      <td>12.5</td>\n",
       "      <td>11.980952</td>\n",
       "      <td>12.542857</td>\n",
       "      <td>11.980952</td>\n",
       "      <td>12.542857</td>\n",
       "      <td>11.980952</td>\n",
       "    </tr>\n",
       "    <tr>\n",
       "      <th>6</th>\n",
       "      <td>A</td>\n",
       "      <td>14.0</td>\n",
       "      <td>11.980952</td>\n",
       "      <td>12.542857</td>\n",
       "      <td>11.980952</td>\n",
       "      <td>12.542857</td>\n",
       "      <td>11.980952</td>\n",
       "    </tr>\n",
       "    <tr>\n",
       "      <th>7</th>\n",
       "      <td>B</td>\n",
       "      <td>10.0</td>\n",
       "      <td>11.980952</td>\n",
       "      <td>11.533333</td>\n",
       "      <td>11.980952</td>\n",
       "      <td>11.533333</td>\n",
       "      <td>11.980952</td>\n",
       "    </tr>\n",
       "    <tr>\n",
       "      <th>8</th>\n",
       "      <td>B</td>\n",
       "      <td>10.2</td>\n",
       "      <td>11.980952</td>\n",
       "      <td>11.533333</td>\n",
       "      <td>11.980952</td>\n",
       "      <td>11.533333</td>\n",
       "      <td>11.980952</td>\n",
       "    </tr>\n",
       "    <tr>\n",
       "      <th>9</th>\n",
       "      <td>B</td>\n",
       "      <td>10.0</td>\n",
       "      <td>11.980952</td>\n",
       "      <td>11.533333</td>\n",
       "      <td>11.980952</td>\n",
       "      <td>11.533333</td>\n",
       "      <td>11.980952</td>\n",
       "    </tr>\n",
       "    <tr>\n",
       "      <th>10</th>\n",
       "      <td>B</td>\n",
       "      <td>12.0</td>\n",
       "      <td>11.980952</td>\n",
       "      <td>11.533333</td>\n",
       "      <td>11.980952</td>\n",
       "      <td>11.533333</td>\n",
       "      <td>11.980952</td>\n",
       "    </tr>\n",
       "    <tr>\n",
       "      <th>11</th>\n",
       "      <td>B</td>\n",
       "      <td>14.0</td>\n",
       "      <td>11.980952</td>\n",
       "      <td>11.533333</td>\n",
       "      <td>11.980952</td>\n",
       "      <td>11.533333</td>\n",
       "      <td>11.980952</td>\n",
       "    </tr>\n",
       "    <tr>\n",
       "      <th>12</th>\n",
       "      <td>B</td>\n",
       "      <td>13.0</td>\n",
       "      <td>11.980952</td>\n",
       "      <td>11.533333</td>\n",
       "      <td>11.980952</td>\n",
       "      <td>11.533333</td>\n",
       "      <td>11.980952</td>\n",
       "    </tr>\n",
       "    <tr>\n",
       "      <th>13</th>\n",
       "      <td>C</td>\n",
       "      <td>10.1</td>\n",
       "      <td>11.980952</td>\n",
       "      <td>11.825000</td>\n",
       "      <td>11.980952</td>\n",
       "      <td>11.825000</td>\n",
       "      <td>11.980952</td>\n",
       "    </tr>\n",
       "    <tr>\n",
       "      <th>14</th>\n",
       "      <td>C</td>\n",
       "      <td>13.0</td>\n",
       "      <td>11.980952</td>\n",
       "      <td>11.825000</td>\n",
       "      <td>11.980952</td>\n",
       "      <td>11.825000</td>\n",
       "      <td>11.980952</td>\n",
       "    </tr>\n",
       "    <tr>\n",
       "      <th>15</th>\n",
       "      <td>C</td>\n",
       "      <td>13.4</td>\n",
       "      <td>11.980952</td>\n",
       "      <td>11.825000</td>\n",
       "      <td>11.980952</td>\n",
       "      <td>11.825000</td>\n",
       "      <td>11.980952</td>\n",
       "    </tr>\n",
       "    <tr>\n",
       "      <th>16</th>\n",
       "      <td>C</td>\n",
       "      <td>12.9</td>\n",
       "      <td>11.980952</td>\n",
       "      <td>11.825000</td>\n",
       "      <td>11.980952</td>\n",
       "      <td>11.825000</td>\n",
       "      <td>11.980952</td>\n",
       "    </tr>\n",
       "    <tr>\n",
       "      <th>17</th>\n",
       "      <td>C</td>\n",
       "      <td>8.9</td>\n",
       "      <td>11.980952</td>\n",
       "      <td>11.825000</td>\n",
       "      <td>11.980952</td>\n",
       "      <td>11.825000</td>\n",
       "      <td>11.980952</td>\n",
       "    </tr>\n",
       "    <tr>\n",
       "      <th>18</th>\n",
       "      <td>C</td>\n",
       "      <td>10.7</td>\n",
       "      <td>11.980952</td>\n",
       "      <td>11.825000</td>\n",
       "      <td>11.980952</td>\n",
       "      <td>11.825000</td>\n",
       "      <td>11.980952</td>\n",
       "    </tr>\n",
       "    <tr>\n",
       "      <th>19</th>\n",
       "      <td>C</td>\n",
       "      <td>13.6</td>\n",
       "      <td>11.980952</td>\n",
       "      <td>11.825000</td>\n",
       "      <td>11.980952</td>\n",
       "      <td>11.825000</td>\n",
       "      <td>11.980952</td>\n",
       "    </tr>\n",
       "    <tr>\n",
       "      <th>20</th>\n",
       "      <td>C</td>\n",
       "      <td>12.0</td>\n",
       "      <td>11.980952</td>\n",
       "      <td>11.825000</td>\n",
       "      <td>11.980952</td>\n",
       "      <td>11.825000</td>\n",
       "      <td>11.980952</td>\n",
       "    </tr>\n",
       "  </tbody>\n",
       "</table>\n",
       "</div>"
      ],
      "text/plain": [
       "   company  score  overall_mean_x  group_mean  overall_mean_y  group_mean_y  \\\n",
       "0        A   12.6       11.980952   12.542857       11.980952     12.542857   \n",
       "1        A   12.0       11.980952   12.542857       11.980952     12.542857   \n",
       "2        A   11.8       11.980952   12.542857       11.980952     12.542857   \n",
       "3        A   11.9       11.980952   12.542857       11.980952     12.542857   \n",
       "4        A   13.0       11.980952   12.542857       11.980952     12.542857   \n",
       "5        A   12.5       11.980952   12.542857       11.980952     12.542857   \n",
       "6        A   14.0       11.980952   12.542857       11.980952     12.542857   \n",
       "7        B   10.0       11.980952   11.533333       11.980952     11.533333   \n",
       "8        B   10.2       11.980952   11.533333       11.980952     11.533333   \n",
       "9        B   10.0       11.980952   11.533333       11.980952     11.533333   \n",
       "10       B   12.0       11.980952   11.533333       11.980952     11.533333   \n",
       "11       B   14.0       11.980952   11.533333       11.980952     11.533333   \n",
       "12       B   13.0       11.980952   11.533333       11.980952     11.533333   \n",
       "13       C   10.1       11.980952   11.825000       11.980952     11.825000   \n",
       "14       C   13.0       11.980952   11.825000       11.980952     11.825000   \n",
       "15       C   13.4       11.980952   11.825000       11.980952     11.825000   \n",
       "16       C   12.9       11.980952   11.825000       11.980952     11.825000   \n",
       "17       C    8.9       11.980952   11.825000       11.980952     11.825000   \n",
       "18       C   10.7       11.980952   11.825000       11.980952     11.825000   \n",
       "19       C   13.6       11.980952   11.825000       11.980952     11.825000   \n",
       "20       C   12.0       11.980952   11.825000       11.980952     11.825000   \n",
       "\n",
       "    overall_mean  \n",
       "0      11.980952  \n",
       "1      11.980952  \n",
       "2      11.980952  \n",
       "3      11.980952  \n",
       "4      11.980952  \n",
       "5      11.980952  \n",
       "6      11.980952  \n",
       "7      11.980952  \n",
       "8      11.980952  \n",
       "9      11.980952  \n",
       "10     11.980952  \n",
       "11     11.980952  \n",
       "12     11.980952  \n",
       "13     11.980952  \n",
       "14     11.980952  \n",
       "15     11.980952  \n",
       "16     11.980952  \n",
       "17     11.980952  \n",
       "18     11.980952  \n",
       "19     11.980952  \n",
       "20     11.980952  "
      ]
     },
     "execution_count": 14,
     "metadata": {},
     "output_type": "execute_result"
    }
   ],
   "source": [
    "data"
   ]
  },
  {
   "cell_type": "markdown",
   "metadata": {},
   "source": [
    "### compute *Sum of Squares Residual*"
   ]
  },
  {
   "cell_type": "code",
   "execution_count": 15,
   "metadata": {
    "scrolled": true
   },
   "outputs": [
    {
     "data": {
      "text/plain": [
       "39.52547619047619"
      ]
     },
     "execution_count": 15,
     "metadata": {},
     "output_type": "execute_result"
    }
   ],
   "source": [
    "ss_residual = sum((data['score'] - data['group_mean'])**2)\n",
    "ss_residual"
   ]
  },
  {
   "cell_type": "markdown",
   "metadata": {},
   "source": [
    "### compute *Sum of Squares Model*"
   ]
  },
  {
   "cell_type": "code",
   "execution_count": 16,
   "metadata": {},
   "outputs": [
    {
     "data": {
      "text/plain": [
       "3.6069047619047634"
      ]
     },
     "execution_count": 16,
     "metadata": {},
     "output_type": "execute_result"
    }
   ],
   "source": [
    "\n",
    "ss_explained = sum((data['overall_mean'] - data['group_mean'])**2)\n",
    "ss_explained"
   ]
  },
  {
   "cell_type": "markdown",
   "metadata": {},
   "source": [
    "### compute *Mean Square Residual*"
   ]
  },
  {
   "cell_type": "code",
   "execution_count": 17,
   "metadata": {
    "scrolled": true
   },
   "outputs": [
    {
     "data": {
      "text/plain": [
       "2.1958597883597886"
      ]
     },
     "execution_count": 17,
     "metadata": {},
     "output_type": "execute_result"
    }
   ],
   "source": [
    "\n",
    "n_groups = len(set(data['company']))\n",
    "n_obs = data.shape[0]\n",
    "df_residual = n_obs - n_groups\n",
    "ms_residual = ss_residual / df_residual\n",
    "ms_residual"
   ]
  },
  {
   "cell_type": "markdown",
   "metadata": {},
   "source": [
    "### compute *Mean Square Explained*"
   ]
  },
  {
   "cell_type": "code",
   "execution_count": 18,
   "metadata": {},
   "outputs": [
    {
     "data": {
      "text/plain": [
       "1.8034523809523817"
      ]
     },
     "execution_count": 18,
     "metadata": {},
     "output_type": "execute_result"
    }
   ],
   "source": [
    "\n",
    "df_explained = n_groups - 1\n",
    "ms_explained = ss_explained / df_explained\n",
    "ms_explained"
   ]
  },
  {
   "cell_type": "markdown",
   "metadata": {},
   "source": [
    "### compute *F-Value*"
   ]
  },
  {
   "cell_type": "code",
   "execution_count": 19,
   "metadata": {},
   "outputs": [
    {
     "data": {
      "text/plain": [
       "0.8212966923081559"
      ]
     },
     "execution_count": 19,
     "metadata": {},
     "output_type": "execute_result"
    }
   ],
   "source": [
    "\n",
    "f = ms_explained / ms_residual\n",
    "f"
   ]
  },
  {
   "cell_type": "markdown",
   "metadata": {},
   "source": [
    "### compute *p-value*"
   ]
  },
  {
   "cell_type": "code",
   "execution_count": 22,
   "metadata": {},
   "outputs": [
    {
     "data": {
      "text/plain": [
       "0.4556832940515234"
      ]
     },
     "execution_count": 22,
     "metadata": {},
     "output_type": "execute_result"
    }
   ],
   "source": [
    "p_value = 1 - scipy.stats.f.cdf(f, df_explained, df_residual)\n",
    "p_value"
   ]
  },
  {
   "cell_type": "code",
   "execution_count": 23,
   "metadata": {},
   "outputs": [
    {
     "data": {
      "text/html": [
       "<div>\n",
       "<style scoped>\n",
       "    .dataframe tbody tr th:only-of-type {\n",
       "        vertical-align: middle;\n",
       "    }\n",
       "\n",
       "    .dataframe tbody tr th {\n",
       "        vertical-align: top;\n",
       "    }\n",
       "\n",
       "    .dataframe thead th {\n",
       "        text-align: right;\n",
       "    }\n",
       "</style>\n",
       "<table border=\"1\" class=\"dataframe\">\n",
       "  <thead>\n",
       "    <tr style=\"text-align: right;\">\n",
       "      <th></th>\n",
       "      <th>df</th>\n",
       "      <th>sum_sq</th>\n",
       "      <th>mean_sq</th>\n",
       "      <th>F</th>\n",
       "      <th>PR(&gt;F)</th>\n",
       "    </tr>\n",
       "  </thead>\n",
       "  <tbody>\n",
       "    <tr>\n",
       "      <th>company</th>\n",
       "      <td>2.0</td>\n",
       "      <td>3.606905</td>\n",
       "      <td>1.803452</td>\n",
       "      <td>0.821297</td>\n",
       "      <td>0.455683</td>\n",
       "    </tr>\n",
       "    <tr>\n",
       "      <th>Residual</th>\n",
       "      <td>18.0</td>\n",
       "      <td>39.525476</td>\n",
       "      <td>2.195860</td>\n",
       "      <td>NaN</td>\n",
       "      <td>NaN</td>\n",
       "    </tr>\n",
       "  </tbody>\n",
       "</table>\n",
       "</div>"
      ],
      "text/plain": [
       "            df     sum_sq   mean_sq         F    PR(>F)\n",
       "company    2.0   3.606905  1.803452  0.821297  0.455683\n",
       "Residual  18.0  39.525476  2.195860       NaN       NaN"
      ]
     },
     "execution_count": 23,
     "metadata": {},
     "output_type": "execute_result"
    }
   ],
   "source": [
    "table"
   ]
  }
 ],
 "metadata": {
  "kernelspec": {
   "display_name": "Python 3",
   "language": "python",
   "name": "python3"
  },
  "language_info": {
   "codemirror_mode": {
    "name": "ipython",
    "version": 3
   },
   "file_extension": ".py",
   "mimetype": "text/x-python",
   "name": "python",
   "nbconvert_exporter": "python",
   "pygments_lexer": "ipython3",
   "version": "3.5.4"
  }
 },
 "nbformat": 4,
 "nbformat_minor": 4
}
