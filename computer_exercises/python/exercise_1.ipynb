{
 "cells": [
  {
   "cell_type": "markdown",
   "metadata": {},
   "source": [
    "# Exercise 1"
   ]
  },
  {
   "cell_type": "code",
   "execution_count": 1,
   "metadata": {},
   "outputs": [],
   "source": [
    "import matplotlib.pyplot as plt\n",
    "import pandas as pd\n",
    "import numpy as np\n",
    "import sympy as sp"
   ]
  },
  {
   "cell_type": "markdown",
   "metadata": {},
   "source": [
    "## 1.1 Distribution of a random variable X\n",
    "Make sure you understand what the probability and density functions are and how they are related to the cumulative distribution function.\n",
    "Let X denotes a continuous random variable, $X\\in[0, +\\infty)$, with a probability density function (pdf) $f(x)$ and cumulative distribution function (cdf) $F(x)$. \n",
    "* Please write down the relationship between $F(x)$ and $f(x)$.\n"
   ]
  },
  {
   "cell_type": "code",
   "execution_count": 2,
   "metadata": {},
   "outputs": [],
   "source": [
    "x,t = sp.symbols('x t')\n",
    "f = sp.Function('f')(x)  # PDF\n",
    "F = sp.Function('F')(x)  # CDF"
   ]
  },
  {
   "cell_type": "code",
   "execution_count": 3,
   "metadata": {},
   "outputs": [
    {
     "data": {
      "text/latex": [
       "$\\displaystyle F{\\left(x \\right)} = \\int\\limits_{-\\infty}^{x} f{\\left(x \\right)}\\, dt$"
      ],
      "text/plain": [
       "Eq(F(x), Integral(f(x), (t, -oo, x)))"
      ]
     },
     "execution_count": 3,
     "metadata": {},
     "output_type": "execute_result"
    }
   ],
   "source": [
    "equation_CFD = sp.Eq(F,sp.Integral(f,(t, -sp.oo, x)))\n",
    "equation_CFD"
   ]
  },
  {
   "cell_type": "markdown",
   "metadata": {},
   "source": [
    "* Please write down the mean and variance of the random variable $X$"
   ]
  },
  {
   "cell_type": "code",
   "execution_count": 9,
   "metadata": {},
   "outputs": [],
   "source": [
    "x_mean = sp.symbols('\\overline{x}')\n",
    "sigma = sp.symbols('sigma') ## Standard deviation\n",
    "n = sp.symbols('n')"
   ]
  },
  {
   "cell_type": "markdown",
   "metadata": {},
   "source": [
    "### Mean value:"
   ]
  },
  {
   "cell_type": "code",
   "execution_count": 21,
   "metadata": {},
   "outputs": [
    {
     "data": {
      "text/latex": [
       "$\\displaystyle \\overline{x} = \\frac{\\sum_{x=1}^{n} x}{n}$"
      ],
      "text/plain": [
       "Eq(\\overline{x}, Sum(x, (x, 1, n))/n)"
      ]
     },
     "execution_count": 21,
     "metadata": {},
     "output_type": "execute_result"
    }
   ],
   "source": [
    "equation_mean_x = sp.Eq(x_mean,1/n*sp.Sum(x,(x, 1,n)))\n",
    "equation_mean_x"
   ]
  },
  {
   "cell_type": "markdown",
   "metadata": {},
   "source": [
    "### Variance"
   ]
  },
  {
   "cell_type": "code",
   "execution_count": 27,
   "metadata": {},
   "outputs": [
    {
     "data": {
      "text/latex": [
       "$\\displaystyle \\sigma^{2} = \\frac{\\sum_{x=1}^{n} \\left(- \\overline{x} + x\\right)^{2}}{n - 1}$"
      ],
      "text/plain": [
       "Eq(sigma**2, Sum((-\\overline{x} + x)**2, (x, 1, n))/(n - 1))"
      ]
     },
     "execution_count": 27,
     "metadata": {},
     "output_type": "execute_result"
    }
   ],
   "source": [
    "equation_variance_x = sp.Eq(sigma**2,1/(n-1)*sp.Sum((x-x_mean)**2,(x, 1,n)))\n",
    "equation_variance_x"
   ]
  },
  {
   "cell_type": "code",
   "execution_count": null,
   "metadata": {},
   "outputs": [],
   "source": []
  }
 ],
 "metadata": {
  "kernelspec": {
   "display_name": "Python 3",
   "language": "python",
   "name": "python3"
  },
  "language_info": {
   "codemirror_mode": {
    "name": "ipython",
    "version": 3
   },
   "file_extension": ".py",
   "mimetype": "text/x-python",
   "name": "python",
   "nbconvert_exporter": "python",
   "pygments_lexer": "ipython3",
   "version": "3.5.4"
  }
 },
 "nbformat": 4,
 "nbformat_minor": 4
}
